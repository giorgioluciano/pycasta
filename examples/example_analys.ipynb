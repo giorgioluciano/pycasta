{
 "cells": [
  {
   "cell_type": "code",
   "execution_count": 1,
   "id": "e65e0306-c55a-4ef9-a58b-3a6b915d475d",
   "metadata": {},
   "outputs": [],
   "source": [
    "import config\n",
    "\n",
    "# Cambia i parametri direttamente\n",
    "config.OUTPUT_DIR = \"results/2por_v2\"\n",
    "config.VERSION_TAG = \"2por_v2\""
   ]
  },
  {
   "cell_type": "code",
   "execution_count": 2,
   "id": "403af101-0132-46f3-a439-5178e35d9b12",
   "metadata": {},
   "outputs": [
    {
     "name": "stdout",
     "output_type": "stream",
     "text": [
      "Working directory: C:\\debug\n"
     ]
    }
   ],
   "source": [
    "from run_analysis import main\n",
    "main()"
   ]
  },
  {
   "cell_type": "code",
   "execution_count": null,
   "id": "cc0a5116-9a5d-4daa-b8ea-ecf0b10de8cf",
   "metadata": {},
   "outputs": [],
   "source": []
  }
 ],
 "metadata": {
  "kernelspec": {
   "display_name": "Python 3 (ipykernel)",
   "language": "python",
   "name": "python3"
  },
  "language_info": {
   "codemirror_mode": {
    "name": "ipython",
    "version": 3
   },
   "file_extension": ".py",
   "mimetype": "text/x-python",
   "name": "python",
   "nbconvert_exporter": "python",
   "pygments_lexer": "ipython3",
   "version": "3.12.5"
  }
 },
 "nbformat": 4,
 "nbformat_minor": 5
}
