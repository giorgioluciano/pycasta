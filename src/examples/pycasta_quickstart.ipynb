{
 "cells": [
  {
   "cell_type": "markdown",
   "id": "2264c7e0",
   "metadata": {},
   "source": [
    "# pycasta Quickstart Demo\n",
    "\n",
    "This notebook demonstrates a typical analysis workflow using the **pycasta** package.\n",
    "\n",
    "You can use this notebook locally, or launch it online with [Binder](https://mybinder.org) for interactive exploration."
   ]
  },
  {
   "cell_type": "markdown",
   "id": "b602ac49",
   "metadata": {},
   "source": [
    "## 1. Setup\n",
    "\n",
    "If you're running on Binder or Colab, you may need to install dependencies (uncomment and run the following cells if needed):\n",
    "```python\n",
    "# !pip install -r ../requirements.txt\n",
    "```\n",
    "Make sure you have all dependencies installed before continuing."
   ]
  },
  {
   "cell_type": "code",
   "execution_count": null,
   "id": "d9695800",
   "metadata": {},
   "outputs": [],
   "source": [
    "# Import main modules\n",
    "import sys\n",
    "sys.path.append('../source')  # Ensure source is in the path\n",
    "\n",
    "import run_analysis\n",
    "print('pycasta main module imported.')"
   ]
  },
  {
   "cell_type": "markdown",
   "id": "5df47896",
   "metadata": {},
   "source": [
    "## 2. Explore Example Data\n",
    "\n",
    "pycasta includes a small sample dataset in the `../data/` directory. You can use this for quick testing."
   ]
  },
  {
   "cell_type": "code",
   "execution_count": null,
   "id": "2eb957bc",
   "metadata": {},
   "outputs": [],
   "source": [
    "# List example data files (requires os)\n",
    "import os\n",
    "data_root = '../data'\n",
    "for folder in ['bounded', 'unbounded', 'tables']:\n",
    "    folder_path = os.path.join(data_root, folder)\n",
    "    if os.path.exists(folder_path):\n",
    "        print(f'Contents of {folder}:', os.listdir(folder_path))\n",
    "    else:\n",
    "        print(f'{folder_path} does not exist')"
   ]
  },
  {
   "cell_type": "markdown",
   "id": "841745aa",
   "metadata": {},
   "source": [
    "## 3. Run Example Analysis\n",
    "\n",
    "The following cell will run the default example analysis provided by `run_analysis.py`. You can modify parameters as needed for your own data."
   ]
  },
  {
   "cell_type": "code",
   "execution_count": null,
   "id": "5814f138",
   "metadata": {},
   "outputs": [],
   "source": [
    "# Run the example analysis (this should mirror running python run_analysis.py from terminal)\n",
    "run_analysis.main()  # Assumes main() is the entry point\n"
   ]
  },
  {
   "cell_type": "markdown",
   "id": "fdd5781b",
   "metadata": {},
   "source": [
    "## 4. Results and Output\n",
    "\n",
    "Check the output logs or any files generated for results. You can add visualization code here if pycasta outputs standard formats."
   ]
  },
  {
   "cell_type": "code",
   "execution_count": null,
   "id": "ecebc103",
   "metadata": {},
   "outputs": [],
   "source": [
    "# Example: list files created in output directory (customize as needed)\n",
    "output_dir = '../output'  # Update if pycasta uses a different path\n",
    "if os.path.exists(output_dir):\n",
    "    print('Output files:', os.listdir(output_dir))\n",
    "else:\n",
    "    print('No output directory found.')"
   ]
  },
  {
   "cell_type": "markdown",
   "id": "bbcf4ee1",
   "metadata": {},
   "source": [
    "## 5. Further Information\n",
    "\n",
    "- For documentation and more details, see the [README](../README.md) or the [GitHub repository](https://github.com/giorgioluciano/pycasta).\n",
    "- For paired analyses, remember to provide an Excel mapping file in the `tables/` directory as described in the README."
   ]
  }
 ],
 "metadata": {},
 "nbformat": 4,
 "nbformat_minor": 5
}
